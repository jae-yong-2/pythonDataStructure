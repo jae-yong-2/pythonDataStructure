{
 "cells": [
  {
   "cell_type": "markdown",
   "id": "afc139c7",
   "metadata": {},
   "source": [
    "# 정렬 sorting\n",
    "- 선택정렬\n",
    "- 버블정렬\n",
    "- 삽입정렬"
   ]
  },
  {
   "cell_type": "markdown",
   "id": "8a97b48b",
   "metadata": {},
   "source": [
    "1. 숫자 N을 입력받아 (1<= N <100 )\n",
    "배열에 넣고 선택정렬로 정렬하시오."
   ]
  },
  {
   "cell_type": "code",
   "execution_count": null,
   "id": "21df000c",
   "metadata": {},
   "outputs": [],
   "source": [
    "N = int(input())\n",
    "arr = []\n",
    "for i in range(N):\n",
    "    arr.append()"
   ]
  }
 ],
 "metadata": {
  "kernelspec": {
   "display_name": "Python 3",
   "language": "python",
   "name": "python3"
  },
  "language_info": {
   "codemirror_mode": {
    "name": "ipython",
    "version": 3
   },
   "file_extension": ".py",
   "mimetype": "text/x-python",
   "name": "python",
   "nbconvert_exporter": "python",
   "pygments_lexer": "ipython3",
   "version": "3.8.8"
  }
 },
 "nbformat": 4,
 "nbformat_minor": 5
}
