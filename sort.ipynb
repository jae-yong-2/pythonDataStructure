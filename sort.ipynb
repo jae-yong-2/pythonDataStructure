{
 "cells": [
  {
   "cell_type": "markdown",
   "id": "8cf892d0",
   "metadata": {},
   "source": [
    "# 정렬 sorting\n",
    "- 선택정렬\n",
    "- 버블정렬\n",
    "- 삽입정렬"
   ]
  },
  {
   "cell_type": "code",
   "execution_count": 1,
   "id": "d451913f",
   "metadata": {},
   "outputs": [],
   "source": [
    "import random\n",
    "\n",
    "case=[]\n",
    "for i in range(20):\n",
    "    case.append(random.randrange(1,200))\n",
    "print(case)\n",
    "\n",
    "def testCase( arr ):\n",
    "    size = len(arr)\n",
    "    for i in range(0,size-1):\n",
    "        if arr[i]>arr[i+1]:\n",
    "            return False\n",
    "    print(arr)\n",
    "    return True"
   ]
  },
  {
   "cell_type": "markdown",
   "id": "67374fd0",
   "metadata": {},
   "source": [
    "1.  1~200사이 숫자 20개를 랜덤으로 생성하고 정렬배열에 넣고 선택정렬로 정렬하시오."
   ]
  },
  {
   "cell_type": "markdown",
   "id": "b71e7ed0",
   "metadata": {},
   "source": [
    "## 선택정렬"
   ]
  },
  {
   "cell_type": "code",
   "execution_count": 3,
   "id": "49af7e2f",
   "metadata": {},
   "outputs": [],
   "source": [
    "def selectionSort( arr ):\n",
    "    size = len(arr)\n",
    "    for i in range(size):\n",
    "        max_index = 0\n",
    "        \n",
    "        for j in range(size-i):\n",
    "        \n",
    "            if arr[max_index]<arr[j]:\n",
    "                max_index=j\n",
    "        \n",
    "        arr[max_index] , arr[size-1-i] = arr[size-1-i], arr[max_index]\n",
    "    return arr"
   ]
  },
  {
   "cell_type": "code",
   "execution_count": 4,
   "id": "5ad8c6bd",
   "metadata": {},
   "outputs": [
    {
     "name": "stdout",
     "output_type": "stream",
     "text": [
      "[3, 5, 9, 45, 51, 64, 101, 111, 114, 119, 126, 127, 131, 142, 144, 151, 155, 158, 163, 176]\n",
      "True\n"
     ]
    }
   ],
   "source": [
    "arr=case\n",
    "selectionSort(arr)\n",
    "print(testCase(arr))"
   ]
  },
  {
   "cell_type": "markdown",
   "id": "eeb172d4",
   "metadata": {},
   "source": [
    "## 버블정렬"
   ]
  },
  {
   "cell_type": "code",
   "execution_count": 5,
   "id": "c4822aa5",
   "metadata": {},
   "outputs": [],
   "source": [
    "def bubbleSort( arr ):\n",
    "    size = len(arr)\n",
    "    for i in range(size):\n",
    "        for j in range(size-1):\n",
    "            if arr[j]>arr[j+1]:\n",
    "                arr[j], arr[j+1] = arr[j+1], arr[j]\n",
    "    return arr"
   ]
  },
  {
   "cell_type": "code",
   "execution_count": 6,
   "id": "1d8f0fd7",
   "metadata": {},
   "outputs": [
    {
     "name": "stdout",
     "output_type": "stream",
     "text": [
      "[3, 5, 9, 45, 51, 64, 101, 111, 114, 119, 126, 127, 131, 142, 144, 151, 155, 158, 163, 176]\n",
      "True\n"
     ]
    }
   ],
   "source": [
    "arr=case\n",
    "bubbleSort(arr)\n",
    "print(testCase(arr))"
   ]
  },
  {
   "cell_type": "markdown",
   "id": "53b00af4",
   "metadata": {},
   "source": [
    "# 삽입정렬"
   ]
  },
  {
   "cell_type": "code",
   "execution_count": 7,
   "id": "f7753f4e",
   "metadata": {},
   "outputs": [],
   "source": [
    "def insertionSort( arr ):\n",
    "    size = len(arr)\n",
    "    for i in range(1, size):\n",
    "        data = arr[i]\n",
    "        for j in range(i):\n",
    "            if arr[j]>data:\n",
    "                arr[j+1:i+1] = arr[j:i]\n",
    "                arr[j]=data\n",
    "                break\n",
    "                \n",
    "                "
   ]
  },
  {
   "cell_type": "code",
   "execution_count": 8,
   "id": "3bd589d3",
   "metadata": {},
   "outputs": [
    {
     "name": "stdout",
     "output_type": "stream",
     "text": [
      "[3, 5, 9, 45, 51, 64, 101, 111, 114, 119, 126, 127, 131, 142, 144, 151, 155, 158, 163, 176]\n",
      "True\n"
     ]
    }
   ],
   "source": [
    "arr=case\n",
    "insertionSort(arr)\n",
    "print(testCase(arr))"
   ]
  },
  {
   "cell_type": "code",
   "execution_count": 57,
   "id": "c0b41664",
   "metadata": {},
   "outputs": [],
   "source": []
  },
  {
   "cell_type": "code",
   "execution_count": null,
   "id": "6b6549b4",
   "metadata": {},
   "outputs": [],
   "source": []
  }
 ],
 "metadata": {
  "kernelspec": {
   "display_name": "Python 3",
   "language": "python",
   "name": "python3"
  },
  "language_info": {
   "codemirror_mode": {
    "name": "ipython",
    "version": 3
   },
   "file_extension": ".py",
   "mimetype": "text/x-python",
   "name": "python",
   "nbconvert_exporter": "python",
   "pygments_lexer": "ipython3",
   "version": "3.8.8"
  }
 },
 "nbformat": 4,
 "nbformat_minor": 5
}
