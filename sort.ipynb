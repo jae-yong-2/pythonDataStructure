{
 "cells": [
  {
   "cell_type": "markdown",
   "id": "48571851",
   "metadata": {},
   "source": [
    "# 정렬 sorting\n",
    "- 선택정렬\n",
    "- 버블정렬\n",
    "- 삽입정렬"
   ]
  },
  {
   "cell_type": "code",
   "execution_count": 10,
   "id": "d7be36d2",
   "metadata": {},
   "outputs": [
    {
     "name": "stdout",
     "output_type": "stream",
     "text": [
      "[143, 106, 94, 80, 167, 152, 163, 78, 101, 168, 46, 50, 118, 30, 155, 18, 113, 104, 93, 76]\n"
     ]
    }
   ],
   "source": [
    "import random\n",
    "\n",
    "case=[]\n",
    "for i in range(20):\n",
    "    case.append(random.randrange(1,200))\n",
    "\n",
    "def testCase( arr ):\n",
    "    return sorted(case)==arr"
   ]
  },
  {
   "cell_type": "markdown",
   "id": "8faa2e70",
   "metadata": {},
   "source": [
    "1.  1~200사이 숫자 20개를 랜덤으로 생성하고 정렬배열에 넣고 선택정렬로 정렬하시오."
   ]
  },
  {
   "cell_type": "markdown",
   "id": "b94a70bb",
   "metadata": {},
   "source": [
    "## 선택정렬"
   ]
  },
  {
   "cell_type": "code",
   "execution_count": 11,
   "id": "232f19e7",
   "metadata": {},
   "outputs": [],
   "source": [
    "def selectionSort( arr ):\n",
    "    size = len(arr)\n",
    "    for i in range(size):\n",
    "        max_index = 0\n",
    "        \n",
    "        for j in range(size-i):\n",
    "        \n",
    "            if arr[max_index]<arr[j]:\n",
    "                max_index=j\n",
    "        \n",
    "        arr[max_index] , arr[size-1-i] = arr[size-1-i], arr[max_index]\n",
    "    return arr"
   ]
  },
  {
   "cell_type": "code",
   "execution_count": 12,
   "id": "38c5046c",
   "metadata": {},
   "outputs": [
    {
     "name": "stdout",
     "output_type": "stream",
     "text": [
      "True\n"
     ]
    }
   ],
   "source": [
    "arr=case\n",
    "selectionSort(arr)\n",
    "print(testCase(arr))"
   ]
  },
  {
   "cell_type": "markdown",
   "id": "d8056e90",
   "metadata": {},
   "source": [
    "## 버블정렬"
   ]
  },
  {
   "cell_type": "code",
   "execution_count": 13,
   "id": "2013e73f",
   "metadata": {},
   "outputs": [],
   "source": [
    "def bubbleSort( arr ):\n",
    "    size = len(arr)\n",
    "    for i in range(size):\n",
    "        for j in range(size-1):\n",
    "            if arr[j]>arr[j+1]:\n",
    "                arr[j], arr[j+1] = arr[j+1], arr[j]\n",
    "    return arr"
   ]
  },
  {
   "cell_type": "code",
   "execution_count": 14,
   "id": "8fd50df6",
   "metadata": {},
   "outputs": [
    {
     "name": "stdout",
     "output_type": "stream",
     "text": [
      "True\n"
     ]
    }
   ],
   "source": [
    "arr=case\n",
    "bubbleSort(arr)\n",
    "print(testCase(arr))"
   ]
  },
  {
   "cell_type": "markdown",
   "id": "2112ad58",
   "metadata": {},
   "source": [
    "# 삽입정렬"
   ]
  },
  {
   "cell_type": "code",
   "execution_count": 15,
   "id": "abfefa09",
   "metadata": {},
   "outputs": [],
   "source": [
    "def insertionSort( arr ):\n",
    "    size = len(arr)\n",
    "    for i in range(1, size):\n",
    "        data = arr[i]\n",
    "        for j in range(i):\n",
    "            if arr[j]>data:\n",
    "                arr[j+1:i+1] = arr[j:i]\n",
    "                arr[j]=data\n",
    "                break\n",
    "                \n",
    "                "
   ]
  },
  {
   "cell_type": "code",
   "execution_count": 16,
   "id": "b1d806e7",
   "metadata": {},
   "outputs": [
    {
     "name": "stdout",
     "output_type": "stream",
     "text": [
      "True\n"
     ]
    }
   ],
   "source": [
    "arr=case\n",
    "insertionSort(arr)\n",
    "print(testCase(arr))"
   ]
  },
  {
   "cell_type": "code",
   "execution_count": null,
   "id": "22eb930b",
   "metadata": {},
   "outputs": [],
   "source": []
  },
  {
   "cell_type": "code",
   "execution_count": null,
   "id": "76ea8be2",
   "metadata": {},
   "outputs": [],
   "source": []
  }
 ],
 "metadata": {
  "kernelspec": {
   "display_name": "Python 3",
   "language": "python",
   "name": "python3"
  },
  "language_info": {
   "codemirror_mode": {
    "name": "ipython",
    "version": 3
   },
   "file_extension": ".py",
   "mimetype": "text/x-python",
   "name": "python",
   "nbconvert_exporter": "python",
   "pygments_lexer": "ipython3",
   "version": "3.8.8"
  }
 },
 "nbformat": 4,
 "nbformat_minor": 5
}
