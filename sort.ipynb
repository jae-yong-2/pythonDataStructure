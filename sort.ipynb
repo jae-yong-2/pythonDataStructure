{
 "cells": [
  {
   "cell_type": "markdown",
   "id": "18167e97",
   "metadata": {},
   "source": [
    "# 정렬 sorting\n",
    "- 선택정렬\n",
    "- 버블정렬\n",
    "- 삽입정렬\n",
    "- 병합정렬\n",
    "- 퀵정렬\n",
    "- 힙정렬"
   ]
  },
  {
   "cell_type": "code",
   "execution_count": 1,
   "id": "13a1429d",
   "metadata": {},
   "outputs": [],
   "source": [
    "import random\n",
    "\n",
    "case=[]\n",
    "for i in range(20):\n",
    "    case.append(random.randrange(1,200))\n",
    "\n",
    "def testCase( arr ):\n",
    "    return sorted(case)==arr"
   ]
  },
  {
   "cell_type": "markdown",
   "id": "e59af746",
   "metadata": {},
   "source": [
    "1.  1~200사이 숫자 20개를 랜덤으로 생성하고 정렬배열에 넣고 선택정렬로 정렬하시오."
   ]
  },
  {
   "cell_type": "markdown",
   "id": "91b11583",
   "metadata": {},
   "source": [
    "## 선택정렬"
   ]
  },
  {
   "cell_type": "code",
   "execution_count": 11,
   "id": "3c2df153",
   "metadata": {},
   "outputs": [],
   "source": [
    "def selectionSort( arr ):\n",
    "    size = len(arr)\n",
    "    for i in range(size):\n",
    "        max_index = 0\n",
    "        \n",
    "        for j in range(size-i):\n",
    "        \n",
    "            if arr[max_index]<arr[j]:\n",
    "                max_index=j\n",
    "        \n",
    "        arr[max_index] , arr[size-1-i] = arr[size-1-i], arr[max_index]\n",
    "    return arr"
   ]
  },
  {
   "cell_type": "code",
   "execution_count": 12,
   "id": "b4c0f89d",
   "metadata": {},
   "outputs": [
    {
     "name": "stdout",
     "output_type": "stream",
     "text": [
      "True\n"
     ]
    }
   ],
   "source": [
    "arr=case\n",
    "selectionSort(arr)\n",
    "print(testCase(arr))"
   ]
  },
  {
   "cell_type": "markdown",
   "id": "cbb9a816",
   "metadata": {},
   "source": [
    "## 버블정렬"
   ]
  },
  {
   "cell_type": "code",
   "execution_count": 13,
   "id": "1274401b",
   "metadata": {},
   "outputs": [],
   "source": [
    "def bubbleSort( arr ):\n",
    "    size = len(arr)\n",
    "    for i in range(size):\n",
    "        for j in range(size-1):\n",
    "            if arr[j]>arr[j+1]:\n",
    "                arr[j], arr[j+1] = arr[j+1], arr[j]\n",
    "    return arr"
   ]
  },
  {
   "cell_type": "code",
   "execution_count": 14,
   "id": "2d8a1ab8",
   "metadata": {},
   "outputs": [
    {
     "name": "stdout",
     "output_type": "stream",
     "text": [
      "True\n"
     ]
    }
   ],
   "source": [
    "arr=case\n",
    "bubbleSort(arr)\n",
    "print(testCase(arr))"
   ]
  },
  {
   "cell_type": "markdown",
   "id": "cb465ce3",
   "metadata": {},
   "source": [
    "# 삽입정렬"
   ]
  },
  {
   "cell_type": "code",
   "execution_count": 15,
   "id": "da28342f",
   "metadata": {},
   "outputs": [],
   "source": [
    "def insertionSort( arr ):\n",
    "    size = len(arr)\n",
    "    for i in range(1, size):\n",
    "        data = arr[i]\n",
    "        for j in range(i):\n",
    "            if arr[j]>data:\n",
    "                arr[j+1:i+1] = arr[j:i]\n",
    "                arr[j]=data\n",
    "                break\n",
    "                \n",
    "                "
   ]
  },
  {
   "cell_type": "code",
   "execution_count": 16,
   "id": "2c09238e",
   "metadata": {},
   "outputs": [
    {
     "name": "stdout",
     "output_type": "stream",
     "text": [
      "True\n"
     ]
    }
   ],
   "source": [
    "arr=case\n",
    "insertionSort(arr)\n",
    "print(testCase(arr))"
   ]
  },
  {
   "cell_type": "markdown",
   "id": "3bc31dc4",
   "metadata": {},
   "source": [
    "# 병합정렬"
   ]
  },
  {
   "cell_type": "code",
   "execution_count": 5,
   "id": "c6235c81",
   "metadata": {},
   "outputs": [],
   "source": [
    "def mergeSort( arr ):\n",
    "    \n",
    "    if len( arr ) <=1:\n",
    "        return arr\n",
    "    \n",
    "    mid = len(arr) // 2\n",
    "    \n",
    "    left = arr[:mid]\n",
    "    right = arr[mid:]\n",
    "    \n",
    "    left = mergeSort(left)\n",
    "    right = mergeSort(right)\n",
    "    \n",
    "    return merge(left,right)\n",
    "    \n",
    "    \n",
    "def merge(left, right):\n",
    "    sorted_arr=[]\n",
    "    while len(left) > 0 or len(right) > 0 :\n",
    "        if len(left)>0 and len(right)>0:\n",
    "            if left[0]>right[0]:\n",
    "                sorted_arr.append(right[0])\n",
    "                right=right[1:]\n",
    "            else:\n",
    "                sorted_arr.append(left[0])\n",
    "                left=left[1:]\n",
    "                \n",
    "        elif len(left)>0:\n",
    "            sorted_arr.append(left[0])\n",
    "            left=left[1:]\n",
    "        elif len(right)>0:\n",
    "            sorted_arr.append(right[0])\n",
    "            right=right[1:]\n",
    "            \n",
    "    return sorted_arr"
   ]
  },
  {
   "cell_type": "code",
   "execution_count": 6,
   "id": "240d7167",
   "metadata": {},
   "outputs": [],
   "source": [
    "arr =case"
   ]
  },
  {
   "cell_type": "code",
   "execution_count": 9,
   "id": "ec3bb2f6",
   "metadata": {},
   "outputs": [
    {
     "name": "stdout",
     "output_type": "stream",
     "text": [
      "True\n"
     ]
    }
   ],
   "source": [
    "print(testCase(mergeSort(arr)))"
   ]
  },
  {
   "cell_type": "code",
   "execution_count": null,
   "id": "f0ae5c3e",
   "metadata": {},
   "outputs": [],
   "source": []
  },
  {
   "cell_type": "code",
   "execution_count": null,
   "id": "672b25ad",
   "metadata": {},
   "outputs": [],
   "source": []
  }
 ],
 "metadata": {
  "kernelspec": {
   "display_name": "Python 3",
   "language": "python",
   "name": "python3"
  },
  "language_info": {
   "codemirror_mode": {
    "name": "ipython",
    "version": 3
   },
   "file_extension": ".py",
   "mimetype": "text/x-python",
   "name": "python",
   "nbconvert_exporter": "python",
   "pygments_lexer": "ipython3",
   "version": "3.8.8"
  }
 },
 "nbformat": 4,
 "nbformat_minor": 5
}
